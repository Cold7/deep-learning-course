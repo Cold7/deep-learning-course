{
 "cells": [
  {
   "cell_type": "code",
   "execution_count": 6,
   "id": "de17b49f",
   "metadata": {},
   "outputs": [
    {
     "name": "stdout",
     "output_type": "stream",
     "text": [
      "Representaciones aprendidas de los genes:\n",
      "tensor([[1., 0.],\n",
      "        [0., 0.],\n",
      "        [1., 0.],\n",
      "        [0., 1.]], grad_fn=<BernoulliBackward0>)\n"
     ]
    }
   ],
   "source": [
    "import torch\n",
    "import torch.nn as nn\n",
    "\n",
    "# Crear una RBM para modelar la red de regulación génica\n",
    "class GeneRBM(nn.Module):\n",
    "    def __init__(self, num_visible, num_hidden):\n",
    "        super(GeneRBM, self).__init__()\n",
    "        self.W = nn.Parameter(torch.randn(num_visible, num_hidden))\n",
    "        self.visible_bias = nn.Parameter(torch.zeros(num_visible))\n",
    "        self.hidden_bias = nn.Parameter(torch.zeros(num_hidden))\n",
    "    \n",
    "    def forward(self, v):\n",
    "        h_prob = torch.sigmoid(torch.matmul(v, self.W) + self.hidden_bias)\n",
    "        h_sample = torch.bernoulli(h_prob)\n",
    "        v_prob = torch.sigmoid(torch.matmul(h_sample, self.W.t()) + self.visible_bias)\n",
    "        v_sample = torch.bernoulli(v_prob)\n",
    "        return h_prob, h_sample, v_prob, v_sample\n",
    "\n",
    "# Datos de expresión génica (simulados)\n",
    "data = torch.tensor([[1, 0, 1],\n",
    "                     [0, 1, 1],\n",
    "                     [1, 1, 0],\n",
    "                     [0, 0, 1]], dtype=torch.float)\n",
    "\n",
    "num_visible_units = data.shape[1]\n",
    "num_hidden_units = 2\n",
    "rbm = GeneRBM(num_visible_units, num_hidden_units)\n",
    "optimizer = torch.optim.Adam(rbm.parameters(), lr=0.01, weight_decay=0.001)\n",
    "\n",
    "num_epochs = 1000\n",
    "for epoch in range(num_epochs):\n",
    "    _, _, _, v_sample = rbm(data)\n",
    "    loss = torch.mean(torch.square(data - v_sample))\n",
    "    \n",
    "    optimizer.zero_grad()\n",
    "    loss.backward()\n",
    "    optimizer.step()\n",
    "\n",
    "# Obtener las representaciones aprendidas de los genes\n",
    "_, gene_representations, _, _ = rbm(data)\n",
    "\n",
    "print(\"Representaciones aprendidas de los genes:\")\n",
    "print(gene_representations)"
   ]
  },
  {
   "cell_type": "code",
   "execution_count": 7,
   "id": "45d96060",
   "metadata": {},
   "outputs": [
    {
     "data": {
      "text/plain": [
       "tensor([[1., 0., 1.],\n",
       "        [0., 1., 1.],\n",
       "        [1., 1., 0.],\n",
       "        [0., 0., 1.]])"
      ]
     },
     "execution_count": 7,
     "metadata": {},
     "output_type": "execute_result"
    }
   ],
   "source": [
    "data"
   ]
  },
  {
   "cell_type": "code",
   "execution_count": 8,
   "id": "36204417",
   "metadata": {},
   "outputs": [
    {
     "data": {
      "text/plain": [
       "'En este ejemplo:\\n\\nDefinimos una clase GeneRBM que representa una RBM para modelar la regulación génica.\\nCreamos datos de expresión génica simulados para tres genes en cuatro condiciones experimentales.\\nEntrenamos la RBM para aprender las representaciones latentes de los genes utilizando la diferencia entre los datos originales y los datos generados por la RBM.\\nObtenemos las representaciones aprendidas de los genes después del entrenamiento.\\n'"
      ]
     },
     "execution_count": 8,
     "metadata": {},
     "output_type": "execute_result"
    }
   ],
   "source": [
    "\"\"\"En este ejemplo:\n",
    "\n",
    "Definimos una clase GeneRBM que representa una RBM para modelar la regulación génica.\n",
    "Creamos datos de expresión génica simulados para tres genes en cuatro condiciones experimentales.\n",
    "Entrenamos la RBM para aprender las representaciones latentes de los genes utilizando la diferencia entre los datos originales y los datos generados por la RBM.\n",
    "Obtenemos las representaciones aprendidas de los genes después del entrenamiento.\n",
    "\"\"\""
   ]
  }
 ],
 "metadata": {
  "kernelspec": {
   "display_name": "Python 3 (ipykernel)",
   "language": "python",
   "name": "python3"
  },
  "language_info": {
   "codemirror_mode": {
    "name": "ipython",
    "version": 3
   },
   "file_extension": ".py",
   "mimetype": "text/x-python",
   "name": "python",
   "nbconvert_exporter": "python",
   "pygments_lexer": "ipython3",
   "version": "3.10.12"
  }
 },
 "nbformat": 4,
 "nbformat_minor": 5
}

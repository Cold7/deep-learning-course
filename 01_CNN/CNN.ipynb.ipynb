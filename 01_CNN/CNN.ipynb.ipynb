{
 "cells": [
  {
   "cell_type": "code",
   "execution_count": 1,
   "id": "6cfd5968",
   "metadata": {},
   "outputs": [
    {
     "name": "stderr",
     "output_type": "stream",
     "text": [
      "2023-07-02 14:22:48.869585: I tensorflow/tsl/cuda/cudart_stub.cc:28] Could not find cuda drivers on your machine, GPU will not be used.\n",
      "2023-07-02 14:22:48.927912: I tensorflow/tsl/cuda/cudart_stub.cc:28] Could not find cuda drivers on your machine, GPU will not be used.\n",
      "2023-07-02 14:22:48.928907: I tensorflow/core/platform/cpu_feature_guard.cc:182] This TensorFlow binary is optimized to use available CPU instructions in performance-critical operations.\n",
      "To enable the following instructions: AVX2 FMA, in other operations, rebuild TensorFlow with the appropriate compiler flags.\n",
      "2023-07-02 14:22:50.136071: W tensorflow/compiler/tf2tensorrt/utils/py_utils.cc:38] TF-TRT Warning: Could not find TensorRT\n"
     ]
    }
   ],
   "source": [
    "# Importing the libraries\n",
    "import tensorflow as tf\n",
    "from keras.preprocessing.image import ImageDataGenerator"
   ]
  },
  {
   "cell_type": "code",
   "execution_count": 2,
   "id": "4357caf8",
   "metadata": {},
   "outputs": [
    {
     "name": "stdout",
     "output_type": "stream",
     "text": [
      "2.12.0\n"
     ]
    }
   ],
   "source": [
    "print(tf.__version__)"
   ]
  },
  {
   "cell_type": "markdown",
   "id": "38c620e0",
   "metadata": {},
   "source": [
    "### Preprocessing the training set"
   ]
  },
  {
   "cell_type": "code",
   "execution_count": 3,
   "id": "1799847d",
   "metadata": {},
   "outputs": [
    {
     "name": "stdout",
     "output_type": "stream",
     "text": [
      "Found 8000 images belonging to 2 classes.\n"
     ]
    }
   ],
   "source": [
    "#applying transformations only in training set to avoid overfitting\n",
    "#we will do some simple geometrical transformations as zoom, rotations\n",
    "#(geometrical transformations like transvections) to shift some pixels\n",
    "#then rotation, horizontal flips,some zoom in and zoom out to modify images\n",
    "\n",
    "#technical term is image augmentation, so the model does not overlearn\n",
    "\n",
    "#here we will rescale, shear, zoom and flip\n",
    "#1./255 apply feature scaling between 0 and 1\n",
    "train_datagen = ImageDataGenerator(rescale = 1./255,\n",
    "                                   shear_range = 0.2,\n",
    "                                   zoom_range = 0.2,\n",
    "                                   horizontal_flip = True)\n",
    "#training_set in sinple quotes is the folder with subfolders of dog and cats\n",
    "#target_size is the final size of images\n",
    "training_set = train_datagen.flow_from_directory('training_set',\n",
    "                                                 target_size = (64, 64),\n",
    "                                                 batch_size = 32,\n",
    "                                                 class_mode = 'binary')"
   ]
  },
  {
   "cell_type": "markdown",
   "id": "86d9c4d7",
   "metadata": {},
   "source": [
    "### Preprocessing test set"
   ]
  },
  {
   "cell_type": "code",
   "execution_count": 4,
   "id": "1ed847a3",
   "metadata": {},
   "outputs": [
    {
     "name": "stdout",
     "output_type": "stream",
     "text": [
      "Found 2000 images belonging to 2 classes.\n"
     ]
    }
   ],
   "source": [
    "#here we will not apply all the same transformation, we dont wanna touch the\n",
    "#test images, however we need to reescale pixel\n",
    "test_datagen = ImageDataGenerator(rescale = 1./255)\n",
    "test_set = test_datagen.flow_from_directory('test_set',\n",
    "                                            target_size = (64, 64),\n",
    "                                            batch_size = 32,\n",
    "                                            class_mode = 'binary')"
   ]
  },
  {
   "cell_type": "markdown",
   "id": "4e401260",
   "metadata": {},
   "source": [
    "### Building the CNN"
   ]
  },
  {
   "cell_type": "code",
   "execution_count": 5,
   "id": "770151e2",
   "metadata": {},
   "outputs": [],
   "source": [
    "# Initialising the CNN\n",
    "cnn = tf.keras.models.Sequential()"
   ]
  },
  {
   "cell_type": "code",
   "execution_count": 6,
   "id": "6f0da3ba",
   "metadata": {},
   "outputs": [],
   "source": [
    "# Step 1 - Convolution\n",
    "\n",
    "#conv2d --> filters is the number of feature detectors to apply\n",
    "# input_shape is the input shape of your inputs, and colored pictures has 3D (RGB)\n",
    "#for B/W images the last number would be 1\n",
    "cnn.add(tf.keras.layers.Conv2D(filters=32, kernel_size=3, activation='relu', input_shape=[64, 64, 3]))"
   ]
  },
  {
   "cell_type": "code",
   "execution_count": 7,
   "id": "036e3a9c",
   "metadata": {},
   "outputs": [],
   "source": [
    "# Step 2 - Pooling\n",
    "##maxpool is the max value of that region\n",
    "##poolsize is the matrix to pool\n",
    "#strides the window to move\n",
    "cnn.add(tf.keras.layers.MaxPool2D(pool_size=2, strides=2))"
   ]
  },
  {
   "cell_type": "code",
   "execution_count": 8,
   "id": "dd238fbd",
   "metadata": {},
   "outputs": [],
   "source": [
    "# Adding a second convolutional layer\n",
    "cnn.add(tf.keras.layers.Conv2D(filters=32, kernel_size=3, activation='relu'))\n",
    "cnn.add(tf.keras.layers.MaxPool2D(pool_size=2, strides=2))"
   ]
  },
  {
   "cell_type": "code",
   "execution_count": 9,
   "id": "8ef6aeb2",
   "metadata": {},
   "outputs": [],
   "source": [
    "# Step 3 - Flattening\n",
    "cnn.add(tf.keras.layers.Flatten())"
   ]
  },
  {
   "cell_type": "code",
   "execution_count": 10,
   "id": "5d7edc2c",
   "metadata": {},
   "outputs": [],
   "source": [
    "# Step 4 - Full Connection\n",
    "#as computer vision is more complex that data mining, we are gonna\n",
    "#choose a larger number of hidden neurons\n",
    "cnn.add(tf.keras.layers.Dense(units=128, activation='relu'))"
   ]
  },
  {
   "cell_type": "code",
   "execution_count": 11,
   "id": "ed051108",
   "metadata": {},
   "outputs": [],
   "source": [
    "# Step 5 - Output Layer\n",
    "cnn.add(tf.keras.layers.Dense(units=1, activation='sigmoid'))"
   ]
  },
  {
   "cell_type": "markdown",
   "id": "5dc46de8",
   "metadata": {},
   "source": [
    "### training the CNN"
   ]
  },
  {
   "cell_type": "code",
   "execution_count": 12,
   "id": "71292818",
   "metadata": {},
   "outputs": [],
   "source": [
    "#compiling the CNN\n",
    "\n",
    "#adam is the stochastic gradient descent\n",
    "cnn.compile(optimizer = 'adam', loss = 'binary_crossentropy', metrics = ['accuracy'])"
   ]
  },
  {
   "cell_type": "code",
   "execution_count": 13,
   "id": "9810cbac",
   "metadata": {},
   "outputs": [
    {
     "name": "stdout",
     "output_type": "stream",
     "text": [
      "Epoch 1/25\n"
     ]
    },
    {
     "name": "stderr",
     "output_type": "stream",
     "text": [
      "2023-07-02 14:22:52.729989: I tensorflow/core/common_runtime/executor.cc:1197] [/device:CPU:0] (DEBUG INFO) Executor start aborting (this does not indicate an error and you can ignore this message): INVALID_ARGUMENT: You must feed a value for placeholder tensor 'Placeholder/_0' with dtype int32\n",
      "\t [[{{node Placeholder/_0}}]]\n"
     ]
    },
    {
     "name": "stdout",
     "output_type": "stream",
     "text": [
      "250/250 [==============================] - ETA: 0s - loss: 0.6610 - accuracy: 0.5999"
     ]
    },
    {
     "name": "stderr",
     "output_type": "stream",
     "text": [
      "2023-07-02 14:23:14.918010: I tensorflow/core/common_runtime/executor.cc:1197] [/device:CPU:0] (DEBUG INFO) Executor start aborting (this does not indicate an error and you can ignore this message): INVALID_ARGUMENT: You must feed a value for placeholder tensor 'Placeholder/_0' with dtype int32\n",
      "\t [[{{node Placeholder/_0}}]]\n"
     ]
    },
    {
     "name": "stdout",
     "output_type": "stream",
     "text": [
      "250/250 [==============================] - 25s 96ms/step - loss: 0.6610 - accuracy: 0.5999 - val_loss: 0.6191 - val_accuracy: 0.6635\n",
      "Epoch 2/25\n",
      "250/250 [==============================] - 22s 89ms/step - loss: 0.5904 - accuracy: 0.6812 - val_loss: 0.5608 - val_accuracy: 0.7160\n",
      "Epoch 3/25\n",
      "250/250 [==============================] - 22s 89ms/step - loss: 0.5552 - accuracy: 0.7110 - val_loss: 0.5863 - val_accuracy: 0.6915\n",
      "Epoch 4/25\n",
      "250/250 [==============================] - 22s 88ms/step - loss: 0.5152 - accuracy: 0.7444 - val_loss: 0.5249 - val_accuracy: 0.7390\n",
      "Epoch 5/25\n",
      "250/250 [==============================] - 22s 88ms/step - loss: 0.4930 - accuracy: 0.7590 - val_loss: 0.5869 - val_accuracy: 0.7090\n",
      "Epoch 6/25\n",
      "250/250 [==============================] - 22s 90ms/step - loss: 0.4758 - accuracy: 0.7731 - val_loss: 0.5329 - val_accuracy: 0.7285\n",
      "Epoch 7/25\n",
      "250/250 [==============================] - 22s 89ms/step - loss: 0.4652 - accuracy: 0.7790 - val_loss: 0.4841 - val_accuracy: 0.7760\n",
      "Epoch 8/25\n",
      "250/250 [==============================] - 22s 88ms/step - loss: 0.4407 - accuracy: 0.7928 - val_loss: 0.4942 - val_accuracy: 0.7720\n",
      "Epoch 9/25\n",
      "250/250 [==============================] - 22s 87ms/step - loss: 0.4250 - accuracy: 0.7980 - val_loss: 0.5106 - val_accuracy: 0.7685\n",
      "Epoch 10/25\n",
      "250/250 [==============================] - 22s 90ms/step - loss: 0.4125 - accuracy: 0.8076 - val_loss: 0.4915 - val_accuracy: 0.7885\n",
      "Epoch 11/25\n",
      "250/250 [==============================] - 22s 89ms/step - loss: 0.4119 - accuracy: 0.8106 - val_loss: 0.4354 - val_accuracy: 0.8015\n",
      "Epoch 12/25\n",
      "250/250 [==============================] - 22s 88ms/step - loss: 0.3958 - accuracy: 0.8215 - val_loss: 0.4442 - val_accuracy: 0.7980\n",
      "Epoch 13/25\n",
      "250/250 [==============================] - 22s 88ms/step - loss: 0.3797 - accuracy: 0.8290 - val_loss: 0.4990 - val_accuracy: 0.7780\n",
      "Epoch 14/25\n",
      "250/250 [==============================] - 23s 90ms/step - loss: 0.3693 - accuracy: 0.8365 - val_loss: 0.4799 - val_accuracy: 0.7850\n",
      "Epoch 15/25\n",
      "250/250 [==============================] - 22s 89ms/step - loss: 0.3547 - accuracy: 0.8428 - val_loss: 0.4537 - val_accuracy: 0.7935\n",
      "Epoch 16/25\n",
      "250/250 [==============================] - 22s 88ms/step - loss: 0.3443 - accuracy: 0.8490 - val_loss: 0.4321 - val_accuracy: 0.8130\n",
      "Epoch 17/25\n",
      "250/250 [==============================] - 22s 89ms/step - loss: 0.3208 - accuracy: 0.8619 - val_loss: 0.4327 - val_accuracy: 0.8100\n",
      "Epoch 18/25\n",
      "250/250 [==============================] - 22s 88ms/step - loss: 0.3142 - accuracy: 0.8590 - val_loss: 0.4496 - val_accuracy: 0.8130\n",
      "Epoch 19/25\n",
      "250/250 [==============================] - 22s 86ms/step - loss: 0.3090 - accuracy: 0.8648 - val_loss: 0.4852 - val_accuracy: 0.7960\n",
      "Epoch 20/25\n",
      "250/250 [==============================] - 22s 86ms/step - loss: 0.2838 - accuracy: 0.8799 - val_loss: 0.4999 - val_accuracy: 0.7955\n",
      "Epoch 21/25\n",
      "250/250 [==============================] - 22s 86ms/step - loss: 0.2726 - accuracy: 0.8848 - val_loss: 0.5011 - val_accuracy: 0.7950\n",
      "Epoch 22/25\n",
      "250/250 [==============================] - 22s 86ms/step - loss: 0.2675 - accuracy: 0.8827 - val_loss: 0.4597 - val_accuracy: 0.8115\n",
      "Epoch 23/25\n",
      "250/250 [==============================] - 22s 86ms/step - loss: 0.2543 - accuracy: 0.8950 - val_loss: 0.4934 - val_accuracy: 0.8055\n",
      "Epoch 24/25\n",
      "250/250 [==============================] - 22s 86ms/step - loss: 0.2387 - accuracy: 0.9022 - val_loss: 0.4880 - val_accuracy: 0.8150\n",
      "Epoch 25/25\n",
      "250/250 [==============================] - 21s 85ms/step - loss: 0.2331 - accuracy: 0.9020 - val_loss: 0.4968 - val_accuracy: 0.8175\n"
     ]
    },
    {
     "data": {
      "text/plain": [
       "<keras.callbacks.History at 0x7fa6ca68f250>"
      ]
     },
     "execution_count": 13,
     "metadata": {},
     "output_type": "execute_result"
    }
   ],
   "source": [
    "# Training the CNN on the Training set and evaluating it on the Test set (instead of two steps)\n",
    "cnn.fit(x = training_set, validation_data = test_set, epochs = 25)"
   ]
  },
  {
   "cell_type": "code",
   "execution_count": 14,
   "id": "5988645d",
   "metadata": {},
   "outputs": [
    {
     "name": "stdout",
     "output_type": "stream",
     "text": [
      "1/1 [==============================] - 0s 72ms/step\n",
      "dog\n",
      "[[1.]]\n"
     ]
    }
   ],
   "source": [
    "# Part 4 - Making a single prediction\n",
    "\n",
    "import numpy as np\n",
    "#from keras.preprocessing import image\n",
    "#this one change by the next one\n",
    "import keras.utils as image\n",
    "\n",
    "test_image = image.load_img('single_prediction/cat_or_dog_2.jpg', target_size = (64, 64))\n",
    "test_image = image.img_to_array(test_image)\n",
    "test_image = np.expand_dims(test_image, axis = 0)\n",
    "result = cnn.predict(test_image)\n",
    "training_set.class_indices\n",
    "if result[0][0] == 1:\n",
    "    prediction = 'dog'\n",
    "else:\n",
    "    prediction = 'cat'\n",
    "print(prediction)\n",
    "print(result)"
   ]
  },
  {
   "cell_type": "code",
   "execution_count": 15,
   "id": "d0bb3a84",
   "metadata": {},
   "outputs": [
    {
     "name": "stdout",
     "output_type": "stream",
     "text": [
      "[[[[239. 239. 239.]\n",
      "   [239. 239. 239.]\n",
      "   [239. 239. 239.]\n",
      "   ...\n",
      "   [245. 245. 245.]\n",
      "   [245. 245. 245.]\n",
      "   [245. 245. 245.]]\n",
      "\n",
      "  [[239. 239. 239.]\n",
      "   [239. 239. 239.]\n",
      "   [239. 239. 239.]\n",
      "   ...\n",
      "   [245. 245. 245.]\n",
      "   [245. 245. 245.]\n",
      "   [244. 244. 244.]]\n",
      "\n",
      "  [[239. 239. 239.]\n",
      "   [239. 239. 239.]\n",
      "   [239. 239. 239.]\n",
      "   ...\n",
      "   [244. 244. 244.]\n",
      "   [244. 244. 244.]\n",
      "   [244. 244. 244.]]\n",
      "\n",
      "  ...\n",
      "\n",
      "  [[241. 217. 205.]\n",
      "   [243. 220. 206.]\n",
      "   [242. 219. 205.]\n",
      "   ...\n",
      "   [226. 201. 181.]\n",
      "   [233. 205. 193.]\n",
      "   [232. 215. 197.]]\n",
      "\n",
      "  [[255. 236. 229.]\n",
      "   [251. 234. 227.]\n",
      "   [252. 235. 227.]\n",
      "   ...\n",
      "   [219. 193. 178.]\n",
      "   [219. 193. 178.]\n",
      "   [216. 189. 172.]]\n",
      "\n",
      "  [[243. 230. 224.]\n",
      "   [250. 235. 228.]\n",
      "   [245. 232. 226.]\n",
      "   ...\n",
      "   [203. 180. 164.]\n",
      "   [220. 198. 177.]\n",
      "   [225. 202. 186.]]]]\n"
     ]
    }
   ],
   "source": [
    "print(test_image)"
   ]
  }
 ],
 "metadata": {
  "kernelspec": {
   "display_name": "Python 3 (ipykernel)",
   "language": "python",
   "name": "python3"
  },
  "language_info": {
   "codemirror_mode": {
    "name": "ipython",
    "version": 3
   },
   "file_extension": ".py",
   "mimetype": "text/x-python",
   "name": "python",
   "nbconvert_exporter": "python",
   "pygments_lexer": "ipython3",
   "version": "3.10.4"
  }
 },
 "nbformat": 4,
 "nbformat_minor": 5
}
